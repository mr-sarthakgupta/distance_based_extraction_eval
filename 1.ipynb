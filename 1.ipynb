{
 "cells": [
  {
   "cell_type": "code",
   "execution_count": 1,
   "id": "28d648bb",
   "metadata": {},
   "outputs": [],
   "source": [
    "%load_ext autoreload\n",
    "%autoreload 2"
   ]
  },
  {
   "cell_type": "code",
   "execution_count": 2,
   "id": "3eac680f",
   "metadata": {},
   "outputs": [],
   "source": [
    "import os\n",
    "os.environ[\"CUDA_VISIBLE_DEVICES\"] = \"2\"\n",
    "tf_device = '/gpu:2'"
   ]
  },
  {
   "cell_type": "code",
   "execution_count": 13,
   "id": "9053edda",
   "metadata": {},
   "outputs": [],
   "source": [
    "import numpy as np\n",
    "import tensorflow as tf\n",
    "import tensorflow_datasets as tfds\n",
    "from uncertainty_from_distance import uncertainty_from_distances\n",
    "import matplotlib.pyplot as plt\n",
    "from sampling_unc import sample_uniform\n",
    "from attack import attack_fn\n",
    "from sampling_unc import sample_high_unc\n",
    "from scipy import stats"
   ]
  },
  {
   "cell_type": "code",
   "execution_count": 5,
   "id": "0da98294",
   "metadata": {},
   "outputs": [],
   "source": [
    "(ds_train, ds_test), ds_info = tfds.load(\n",
    "    'mnist',\n",
    "    split=['train', 'test'],\n",
    "    shuffle_files=True,\n",
    "    as_supervised=True,\n",
    "    with_info=True,\n",
    ")\n",
    "\n",
    "def normalize_img(image, label):\n",
    "  \"\"\"Normalizes images: `uint8` -> `float32`.\"\"\"\n",
    "  return tf.cast(image, tf.float32) / 255., label\n",
    "\n",
    "ds_train = ds_train.map(\n",
    "    normalize_img, num_parallel_calls=tf.data.AUTOTUNE)\n",
    "ds_train = ds_train.cache()\n",
    "ds_train = ds_train.shuffle(ds_info.splits['train'].num_examples)\n",
    "ds_train = ds_train.batch(100)\n",
    "ds_train = ds_train.prefetch(tf.data.AUTOTUNE)\n",
    "\n",
    "ds_test = ds_test.map(\n",
    "    normalize_img, num_parallel_calls=tf.data.AUTOTUNE)\n",
    "ds_test = ds_test.batch(100)\n",
    "ds_test = ds_test.cache()\n",
    "ds_test = ds_test.prefetch(tf.data.AUTOTUNE)"
   ]
  },
  {
   "cell_type": "code",
   "execution_count": 6,
   "id": "48106bb8",
   "metadata": {},
   "outputs": [
    {
     "name": "stdout",
     "output_type": "stream",
     "text": [
      "Epoch 1/6\n",
      "600/600 [==============================] - 4s 3ms/step - loss: 1.6041 - sparse_categorical_accuracy: 0.8848 - val_loss: 1.5394 - val_sparse_categorical_accuracy: 0.9325\n",
      "Epoch 2/6\n",
      "600/600 [==============================] - 2s 2ms/step - loss: 1.5282 - sparse_categorical_accuracy: 0.9410 - val_loss: 1.5187 - val_sparse_categorical_accuracy: 0.9483\n",
      "Epoch 3/6\n",
      "600/600 [==============================] - 2s 3ms/step - loss: 1.5131 - sparse_categorical_accuracy: 0.9539 - val_loss: 1.5097 - val_sparse_categorical_accuracy: 0.9562\n",
      "Epoch 4/6\n",
      "600/600 [==============================] - 2s 3ms/step - loss: 1.5045 - sparse_categorical_accuracy: 0.9616 - val_loss: 1.5048 - val_sparse_categorical_accuracy: 0.9601\n",
      "Epoch 5/6\n",
      "600/600 [==============================] - 2s 2ms/step - loss: 1.4978 - sparse_categorical_accuracy: 0.9676 - val_loss: 1.5008 - val_sparse_categorical_accuracy: 0.9639\n",
      "Epoch 6/6\n",
      "600/600 [==============================] - 2s 3ms/step - loss: 1.4934 - sparse_categorical_accuracy: 0.9719 - val_loss: 1.4966 - val_sparse_categorical_accuracy: 0.9684\n"
     ]
    },
    {
     "data": {
      "text/plain": [
       "<keras.callbacks.History at 0x7f3e64662bb0>"
      ]
     },
     "execution_count": 6,
     "metadata": {},
     "output_type": "execute_result"
    }
   ],
   "source": [
    "fc_model = tf.keras.models.Sequential([\n",
    "  tf.keras.layers.Flatten(input_shape=(28, 28)),\n",
    "  tf.keras.layers.Dense(128, activation='relu'),\n",
    "  tf.keras.layers.Dense(10),\n",
    "  tf.keras.layers.Softmax(axis = -1)\n",
    "])\n",
    "fc_model.compile(\n",
    "    optimizer=tf.keras.optimizers.Adam(0.001),\n",
    "    loss=tf.keras.losses.SparseCategoricalCrossentropy(from_logits=True),\n",
    "    metrics=[tf.keras.metrics.SparseCategoricalAccuracy()],\n",
    ")\n",
    "\n",
    "fc_model.fit(\n",
    "    ds_train,\n",
    "    epochs=6,\n",
    "    validation_data=ds_test,\n",
    ")"
   ]
  },
  {
   "cell_type": "code",
   "execution_count": 7,
   "id": "14e248f7",
   "metadata": {},
   "outputs": [],
   "source": [
    "fc_distance_obj = uncertainty_from_distances(fc_model, 100, 20, 28, 1)"
   ]
  },
  {
   "cell_type": "code",
   "execution_count": 15,
   "id": "6e611fea",
   "metadata": {},
   "outputs": [
    {
     "data": {
      "image/png": "[encoded data removed]",
      "text/plain": [
       "<Figure size 432x288 with 1 Axes>"
      ]
     },
     "metadata": {
      "needs_background": "light"
     },
     "output_type": "display_data"
    },
    {
     "data": {
      "text/plain": [
       "<Figure size 432x288 with 0 Axes>"
      ]
     },
     "metadata": {},
     "output_type": "display_data"
    }
   ],
   "source": [
    "fc_unc_list = np.array([0])\n",
    "fc_soft_list = np.zeros([1, 10])\n",
    "for (imgs, labels) in ds_test:\n",
    "    outs = fc_model(imgs)\n",
    "    fc_soft_list = np.append(fc_soft_list, fc_model(imgs), axis = 0)\n",
    "    fc_unc_list = np.append(fc_unc_list, tf.make_ndarray(tf.make_tensor_proto(fc_distance_obj.get_uncertainty(imgs))), axis = 0)\n",
    "fc_soft_list = stats.entropy(fc_soft_list, axis = 1)\n",
    "\n",
    "plt.scatter(fc_unc_list, fc_soft_list)\n",
    "plt.xlabel('DISTANCE FROM DECIDSION BOUNDARY')\n",
    "plt.ylabel('SOFTNESS OF OUTPUT')\n",
    "plt.show()\n",
    "plt.savefig('fc_unc_vs_soft.png')"
   ]
  },
  {
   "cell_type": "code",
   "execution_count": 16,
   "id": "b4f664ac",
   "metadata": {},
   "outputs": [
    {
     "name": "stdout",
     "output_type": "stream",
     "text": [
      "Epoch 1/6\n",
      "600/600 [==============================] - 6s 10ms/step - loss: 1.5911 - sparse_categorical_accuracy: 0.8950 - val_loss: 1.5281 - val_sparse_categorical_accuracy: 0.9400\n",
      "Epoch 2/6\n",
      "600/600 [==============================] - 5s 9ms/step - loss: 1.5216 - sparse_categorical_accuracy: 0.9447 - val_loss: 1.5104 - val_sparse_categorical_accuracy: 0.9550\n",
      "Epoch 3/6\n",
      "600/600 [==============================] - 5s 8ms/step - loss: 1.5055 - sparse_categorical_accuracy: 0.9602 - val_loss: 1.5027 - val_sparse_categorical_accuracy: 0.9615\n",
      "Epoch 4/6\n",
      "600/600 [==============================] - 5s 8ms/step - loss: 1.4964 - sparse_categorical_accuracy: 0.9687 - val_loss: 1.4954 - val_sparse_categorical_accuracy: 0.9681\n",
      "Epoch 5/6\n",
      "600/600 [==============================] - 5s 7ms/step - loss: 1.4908 - sparse_categorical_accuracy: 0.9742 - val_loss: 1.4933 - val_sparse_categorical_accuracy: 0.9706\n",
      "Epoch 6/6\n",
      "600/600 [==============================] - 5s 9ms/step - loss: 1.4872 - sparse_categorical_accuracy: 0.9773 - val_loss: 1.4916 - val_sparse_categorical_accuracy: 0.9727\n"
     ]
    },
    {
     "data": {
      "text/plain": [
       "<keras.callbacks.History at 0x7f3de7d61b80>"
      ]
     },
     "execution_count": 16,
     "metadata": {},
     "output_type": "execute_result"
    }
   ],
   "source": [
    "cnn_model = tf.keras.models.Sequential([\n",
    "  tf.keras.layers.Conv2D(10, (3, 3), activation='relu', input_shape=(28, 28, 1)),\n",
    "  tf.keras.layers.Flatten(input_shape=(26, 26, 10)),\n",
    "  tf.keras.layers.Dense(10),\n",
    "  tf.keras.layers.Softmax(axis = -1)\n",
    "])\n",
    "cnn_model.compile(\n",
    "    optimizer=tf.keras.optimizers.Adam(0.001),\n",
    "    loss=tf.keras.losses.SparseCategoricalCrossentropy(from_logits=True),\n",
    "    metrics=[tf.keras.metrics.SparseCategoricalAccuracy()],\n",
    ")\n",
    "\n",
    "cnn_model.fit(\n",
    "    ds_train,\n",
    "    epochs=6,\n",
    "    validation_data=ds_test,\n",
    ")"
   ]
  },
  {
   "cell_type": "code",
   "execution_count": 17,
   "id": "c8151a2f",
   "metadata": {},
   "outputs": [],
   "source": [
    "cnn_distance_obj = uncertainty_from_distances(cnn_model, 100, 20, 28, 1)"
   ]
  },
  {
   "cell_type": "code",
   "execution_count": 18,
   "id": "8e8e58ed",
   "metadata": {},
   "outputs": [
    {
     "data": {
      "image/png": "[encoded data removed]",
      "text/plain": [
       "<Figure size 432x288 with 1 Axes>"
      ]
     },
     "metadata": {
      "needs_background": "light"
     },
     "output_type": "display_data"
    },
    {
     "data": {
      "text/plain": [
       "<Figure size 432x288 with 0 Axes>"
      ]
     },
     "metadata": {},
     "output_type": "display_data"
    }
   ],
   "source": [
    "cnn_unc_list = np.array([0])\n",
    "cnn_soft_list = np.zeros([1, 10])\n",
    "for (imgs, labels) in ds_test:\n",
    "    outs = cnn_model(imgs)\n",
    "    cnn_soft_list = np.append(cnn_soft_list, cnn_model(imgs), axis = 0)\n",
    "    cnn_unc_list = np.append(cnn_unc_list, tf.make_ndarray(tf.make_tensor_proto(cnn_distance_obj.get_uncertainty(imgs))), axis = 0)\n",
    "cnn_soft_list = scipy.stats.entropy(cnn_soft_list, axis = 1)\n",
    "\n",
    "plt.scatter(cnn_unc_list, cnn_soft_list)\n",
    "plt.xlabel('UNCERTAINTY BY DISTANCE')\n",
    "plt.ylabel('NUMBER OF INSTANCES BELONGING TO THAT BIN')\n",
    "plt.show()\n",
    "plt.savefig('cnn_unc_vs_soft.png')"
   ]
  },
  {
   "cell_type": "code",
   "execution_count": 22,
   "id": "0b3bd73d",
   "metadata": {},
   "outputs": [
    {
     "data": {
      "text/plain": [
       "<matplotlib.collections.PathCollection at 0x7f3de7c16850>"
      ]
     },
     "execution_count": 22,
     "metadata": {},
     "output_type": "execute_result"
    },
    {
     "data": {
      "image/png": "[encoded data removed]",
      "text/plain": [
       "<Figure size 432x288 with 1 Axes>"
      ]
     },
     "metadata": {
      "needs_background": "light"
     },
     "output_type": "display_data"
    }
   ],
   "source": [
    "plt.scatter(cnn_unc_list, cnn_soft_list, s = 0.45)"
   ]
  },
  {
   "cell_type": "code",
   "execution_count": 23,
   "id": "2b964c72",
   "metadata": {},
   "outputs": [
    {
     "data": {
      "text/plain": [
       "<matplotlib.collections.PathCollection at 0x7f3de7b93bb0>"
      ]
     },
     "execution_count": 23,
     "metadata": {},
     "output_type": "execute_result"
    },
    {
     "data": {
      "image/png": "[encoded data removed]",
      "text/plain": [
       "<Figure size 432x288 with 1 Axes>"
      ]
     },
     "metadata": {
      "needs_background": "light"
     },
     "output_type": "display_data"
    }
   ],
   "source": [
    "plt.scatter(fc_unc_list, fc_soft_list, s = 0.45)"
   ]
  },
  {
   "cell_type": "code",
   "execution_count": null,
   "id": "30261a63",
   "metadata": {},
   "outputs": [],
   "source": []
  }
 ],
 "metadata": {
  "kernelspec": {
   "display_name": "Python 3 (ipykernel)",
   "language": "python",
   "name": "python3"
  },
  "language_info": {
   "codemirror_mode": {
    "name": "ipython",
    "version": 3
   },
   "file_extension": ".py",
   "mimetype": "text/x-python",
   "name": "python",
   "nbconvert_exporter": "python",
   "pygments_lexer": "ipython3",
   "version": "3.8.13"
  }
 },
 "nbformat": 4,
 "nbformat_minor": 5
}
