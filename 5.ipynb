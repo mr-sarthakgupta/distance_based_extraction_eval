{
 "cells": [
  {
   "cell_type": "code",
   "execution_count": 8,
   "id": "43abb20f",
   "metadata": {},
   "outputs": [
    {
     "name": "stdout",
     "output_type": "stream",
     "text": [
      "The autoreload extension is already loaded. To reload it, use:\n",
      "  %reload_ext autoreload\n"
     ]
    }
   ],
   "source": [
    "%load_ext autoreload\n",
    "%autoreload 2"
   ]
  },
  {
   "cell_type": "code",
   "execution_count": 15,
   "id": "b56e7007",
   "metadata": {},
   "outputs": [],
   "source": [
    "import os\n",
    "os.environ[\"CUDA_VISIBLE_DEVICES\"] = \"0\"\n",
    "tf_device = '/gpu:2'"
   ]
  },
  {
   "cell_type": "code",
   "execution_count": 16,
   "id": "b76b005d",
   "metadata": {},
   "outputs": [],
   "source": [
    "import numpy as np\n",
    "import tensorflow as tf\n",
    "import tensorflow_datasets as tfds\n",
    "from uncertainty_from_distance import uncertainty_from_distances\n",
    "import matplotlib.pyplot as plt\n",
    "from sampling_unc import sample_uniform\n",
    "from attack import attack_fn\n",
    "from sampling_unc import sample_high_unc, sample_low_unc"
   ]
  },
  {
   "cell_type": "code",
   "execution_count": 17,
   "id": "2061a7ae",
   "metadata": {},
   "outputs": [],
   "source": [
    "(ds_train, ds_test), ds_info = tfds.load(\n",
    "    'mnist',\n",
    "    split=['train', 'test'],\n",
    "    shuffle_files=True,\n",
    "    as_supervised=True,\n",
    "    with_info=True,\n",
    ")\n",
    "\n",
    "def normalize_img(image, label):\n",
    "  \"\"\"Normalizes images: `uint8` -> `float32`.\"\"\"\n",
    "  return tf.cast(image, tf.float32) / 255., label\n",
    "\n",
    "ds_train = ds_train.map(\n",
    "    normalize_img, num_parallel_calls=tf.data.AUTOTUNE)\n",
    "ds_train = ds_train.cache()\n",
    "ds_train = ds_train.shuffle(ds_info.splits['train'].num_examples)\n",
    "ds_train = ds_train.batch(100)\n",
    "ds_train = ds_train.prefetch(tf.data.AUTOTUNE)\n",
    "\n",
    "ds_test = ds_test.map(\n",
    "    normalize_img, num_parallel_calls=tf.data.AUTOTUNE)\n",
    "ds_test = ds_test.batch(100)\n",
    "ds_test = ds_test.cache()\n",
    "ds_test = ds_test.prefetch(tf.data.AUTOTUNE)"
   ]
  },
  {
   "cell_type": "code",
   "execution_count": 18,
   "id": "41cee027",
   "metadata": {},
   "outputs": [
    {
     "name": "stdout",
     "output_type": "stream",
     "text": [
      "Epoch 1/6\n"
     ]
    },
    {
     "name": "stderr",
     "output_type": "stream",
     "text": [
      "2022-06-24 16:11:25.059750: E tensorflow/stream_executor/cuda/cuda_blas.cc:232] failed to create cublas handle: CUBLAS_STATUS_NOT_INITIALIZED\n",
      "2022-06-24 16:11:25.059787: E tensorflow/stream_executor/cuda/cuda_blas.cc:234] Failure to initialize cublas may be due to OOM (cublas needs some free memory when you initialize it, and your deep-learning framework may have preallocated more than its fair share), or may be because this binary was not built with support for the GPU in your machine.\n",
      "2022-06-24 16:11:25.059804: W tensorflow/core/framework/op_kernel.cc:1745] OP_REQUIRES failed at matmul_op_impl.h:438 : INTERNAL: Attempting to perform BLAS operation using StreamExecutor without BLAS support\n"
     ]
    },
    {
     "ename": "InternalError",
     "evalue": "Graph execution error:\n\nDetected at node 'sequential_2/dense_4/MatMul' defined at (most recent call last):\n    File \"/home/interns2022/miniconda3/envs/sarthak/lib/python3.10/runpy.py\", line 196, in _run_module_as_main\n      return _run_code(code, main_globals, None,\n    File \"/home/interns2022/miniconda3/envs/sarthak/lib/python3.10/runpy.py\", line 86, in _run_code\n      exec(code, run_globals)\n    File \"/home/interns2022/miniconda3/envs/sarthak/lib/python3.10/site-packages/ipykernel_launcher.py\", line 16, in <module>\n      app.launch_new_instance()\n    File \"/home/interns2022/miniconda3/envs/sarthak/lib/python3.10/site-packages/traitlets/config/application.py\", line 846, in launch_instance\n      app.start()\n    File \"/home/interns2022/miniconda3/envs/sarthak/lib/python3.10/site-packages/ipykernel/kernelapp.py\", line 677, in start\n      self.io_loop.start()\n    File \"/home/interns2022/miniconda3/envs/sarthak/lib/python3.10/site-packages/tornado/platform/asyncio.py\", line 199, in start\n      self.asyncio_loop.run_forever()\n    File \"/home/interns2022/miniconda3/envs/sarthak/lib/python3.10/asyncio/base_events.py\", line 600, in run_forever\n      self._run_once()\n    File \"/home/interns2022/miniconda3/envs/sarthak/lib/python3.10/asyncio/base_events.py\", line 1896, in _run_once\n      handle._run()\n    File \"/home/interns2022/miniconda3/envs/sarthak/lib/python3.10/asyncio/events.py\", line 80, in _run\n      self._context.run(self._callback, *self._args)\n    File \"/home/interns2022/miniconda3/envs/sarthak/lib/python3.10/site-packages/ipykernel/kernelbase.py\", line 471, in dispatch_queue\n      await self.process_one()\n    File \"/home/interns2022/miniconda3/envs/sarthak/lib/python3.10/site-packages/ipykernel/kernelbase.py\", line 460, in process_one\n      await dispatch(*args)\n    File \"/home/interns2022/miniconda3/envs/sarthak/lib/python3.10/site-packages/ipykernel/kernelbase.py\", line 367, in dispatch_shell\n      await result\n    File \"/home/interns2022/miniconda3/envs/sarthak/lib/python3.10/site-packages/ipykernel/kernelbase.py\", line 662, in execute_request\n      reply_content = await reply_content\n    File \"/home/interns2022/miniconda3/envs/sarthak/lib/python3.10/site-packages/ipykernel/ipkernel.py\", line 360, in do_execute\n      res = shell.run_cell(code, store_history=store_history, silent=silent)\n    File \"/home/interns2022/miniconda3/envs/sarthak/lib/python3.10/site-packages/ipykernel/zmqshell.py\", line 532, in run_cell\n      return super().run_cell(*args, **kwargs)\n    File \"/home/interns2022/miniconda3/envs/sarthak/lib/python3.10/site-packages/IPython/core/interactiveshell.py\", line 2863, in run_cell\n      result = self._run_cell(\n    File \"/home/interns2022/miniconda3/envs/sarthak/lib/python3.10/site-packages/IPython/core/interactiveshell.py\", line 2909, in _run_cell\n      return runner(coro)\n    File \"/home/interns2022/miniconda3/envs/sarthak/lib/python3.10/site-packages/IPython/core/async_helpers.py\", line 129, in _pseudo_sync_runner\n      coro.send(None)\n    File \"/home/interns2022/miniconda3/envs/sarthak/lib/python3.10/site-packages/IPython/core/interactiveshell.py\", line 3106, in run_cell_async\n      has_raised = await self.run_ast_nodes(code_ast.body, cell_name,\n    File \"/home/interns2022/miniconda3/envs/sarthak/lib/python3.10/site-packages/IPython/core/interactiveshell.py\", line 3309, in run_ast_nodes\n      if await self.run_code(code, result, async_=asy):\n    File \"/home/interns2022/miniconda3/envs/sarthak/lib/python3.10/site-packages/IPython/core/interactiveshell.py\", line 3369, in run_code\n      exec(code_obj, self.user_global_ns, self.user_ns)\n    File \"/tmp/ipykernel_9758/2036511252.py\", line 13, in <cell line: 13>\n      fc_model.fit(\n    File \"/home/interns2022/miniconda3/envs/sarthak/lib/python3.10/site-packages/keras/utils/traceback_utils.py\", line 64, in error_handler\n      return fn(*args, **kwargs)\n    File \"/home/interns2022/miniconda3/envs/sarthak/lib/python3.10/site-packages/keras/engine/training.py\", line 1409, in fit\n      tmp_logs = self.train_function(iterator)\n    File \"/home/interns2022/miniconda3/envs/sarthak/lib/python3.10/site-packages/keras/engine/training.py\", line 1051, in train_function\n      return step_function(self, iterator)\n    File \"/home/interns2022/miniconda3/envs/sarthak/lib/python3.10/site-packages/keras/engine/training.py\", line 1040, in step_function\n      outputs = model.distribute_strategy.run(run_step, args=(data,))\n    File \"/home/interns2022/miniconda3/envs/sarthak/lib/python3.10/site-packages/keras/engine/training.py\", line 1030, in run_step\n      outputs = model.train_step(data)\n    File \"/home/interns2022/miniconda3/envs/sarthak/lib/python3.10/site-packages/keras/engine/training.py\", line 889, in train_step\n      y_pred = self(x, training=True)\n    File \"/home/interns2022/miniconda3/envs/sarthak/lib/python3.10/site-packages/keras/utils/traceback_utils.py\", line 64, in error_handler\n      return fn(*args, **kwargs)\n    File \"/home/interns2022/miniconda3/envs/sarthak/lib/python3.10/site-packages/keras/engine/training.py\", line 490, in __call__\n      return super().__call__(*args, **kwargs)\n    File \"/home/interns2022/miniconda3/envs/sarthak/lib/python3.10/site-packages/keras/utils/traceback_utils.py\", line 64, in error_handler\n      return fn(*args, **kwargs)\n    File \"/home/interns2022/miniconda3/envs/sarthak/lib/python3.10/site-packages/keras/engine/base_layer.py\", line 1014, in __call__\n      outputs = call_fn(inputs, *args, **kwargs)\n    File \"/home/interns2022/miniconda3/envs/sarthak/lib/python3.10/site-packages/keras/utils/traceback_utils.py\", line 92, in error_handler\n      return fn(*args, **kwargs)\n    File \"/home/interns2022/miniconda3/envs/sarthak/lib/python3.10/site-packages/keras/engine/sequential.py\", line 374, in call\n      return super(Sequential, self).call(inputs, training=training, mask=mask)\n    File \"/home/interns2022/miniconda3/envs/sarthak/lib/python3.10/site-packages/keras/engine/functional.py\", line 458, in call\n      return self._run_internal_graph(\n    File \"/home/interns2022/miniconda3/envs/sarthak/lib/python3.10/site-packages/keras/engine/functional.py\", line 596, in _run_internal_graph\n      outputs = node.layer(*args, **kwargs)\n    File \"/home/interns2022/miniconda3/envs/sarthak/lib/python3.10/site-packages/keras/utils/traceback_utils.py\", line 64, in error_handler\n      return fn(*args, **kwargs)\n    File \"/home/interns2022/miniconda3/envs/sarthak/lib/python3.10/site-packages/keras/engine/base_layer.py\", line 1014, in __call__\n      outputs = call_fn(inputs, *args, **kwargs)\n    File \"/home/interns2022/miniconda3/envs/sarthak/lib/python3.10/site-packages/keras/utils/traceback_utils.py\", line 92, in error_handler\n      return fn(*args, **kwargs)\n    File \"/home/interns2022/miniconda3/envs/sarthak/lib/python3.10/site-packages/keras/layers/core/dense.py\", line 221, in call\n      outputs = tf.matmul(a=inputs, b=self.kernel)\nNode: 'sequential_2/dense_4/MatMul'\nAttempting to perform BLAS operation using StreamExecutor without BLAS support\n\t [[{{node sequential_2/dense_4/MatMul}}]] [Op:__inference_train_function_2212]",
     "output_type": "error",
     "traceback": [
      "\u001b[0;31m---------------------------------------------------------------------------\u001b[0m",
      "\u001b[0;31mInternalError\u001b[0m                             Traceback (most recent call last)",
      "Input \u001b[0;32mIn [18]\u001b[0m, in \u001b[0;36m<cell line: 13>\u001b[0;34m()\u001b[0m\n\u001b[1;32m      1\u001b[0m fc_model \u001b[38;5;241m=\u001b[39m tf\u001b[38;5;241m.\u001b[39mkeras\u001b[38;5;241m.\u001b[39mmodels\u001b[38;5;241m.\u001b[39mSequential([\n\u001b[1;32m      2\u001b[0m   tf\u001b[38;5;241m.\u001b[39mkeras\u001b[38;5;241m.\u001b[39mlayers\u001b[38;5;241m.\u001b[39mFlatten(input_shape\u001b[38;5;241m=\u001b[39m(\u001b[38;5;241m28\u001b[39m, \u001b[38;5;241m28\u001b[39m)),\n\u001b[1;32m      3\u001b[0m   tf\u001b[38;5;241m.\u001b[39mkeras\u001b[38;5;241m.\u001b[39mlayers\u001b[38;5;241m.\u001b[39mDense(\u001b[38;5;241m128\u001b[39m, activation\u001b[38;5;241m=\u001b[39m\u001b[38;5;124m'\u001b[39m\u001b[38;5;124mrelu\u001b[39m\u001b[38;5;124m'\u001b[39m),\n\u001b[1;32m      4\u001b[0m   tf\u001b[38;5;241m.\u001b[39mkeras\u001b[38;5;241m.\u001b[39mlayers\u001b[38;5;241m.\u001b[39mDense(\u001b[38;5;241m10\u001b[39m),\n\u001b[1;32m      5\u001b[0m   tf\u001b[38;5;241m.\u001b[39mkeras\u001b[38;5;241m.\u001b[39mlayers\u001b[38;5;241m.\u001b[39mSoftmax(axis \u001b[38;5;241m=\u001b[39m \u001b[38;5;241m-\u001b[39m\u001b[38;5;241m1\u001b[39m)\n\u001b[1;32m      6\u001b[0m ])\n\u001b[1;32m      7\u001b[0m fc_model\u001b[38;5;241m.\u001b[39mcompile(\n\u001b[1;32m      8\u001b[0m     optimizer\u001b[38;5;241m=\u001b[39mtf\u001b[38;5;241m.\u001b[39mkeras\u001b[38;5;241m.\u001b[39moptimizers\u001b[38;5;241m.\u001b[39mAdam(\u001b[38;5;241m0.001\u001b[39m),\n\u001b[1;32m      9\u001b[0m     loss\u001b[38;5;241m=\u001b[39mtf\u001b[38;5;241m.\u001b[39mkeras\u001b[38;5;241m.\u001b[39mlosses\u001b[38;5;241m.\u001b[39mSparseCategoricalCrossentropy(from_logits\u001b[38;5;241m=\u001b[39m\u001b[38;5;28;01mTrue\u001b[39;00m),\n\u001b[1;32m     10\u001b[0m     metrics\u001b[38;5;241m=\u001b[39m[tf\u001b[38;5;241m.\u001b[39mkeras\u001b[38;5;241m.\u001b[39mmetrics\u001b[38;5;241m.\u001b[39mSparseCategoricalAccuracy()],\n\u001b[1;32m     11\u001b[0m )\n\u001b[0;32m---> 13\u001b[0m \u001b[43mfc_model\u001b[49m\u001b[38;5;241;43m.\u001b[39;49m\u001b[43mfit\u001b[49m\u001b[43m(\u001b[49m\n\u001b[1;32m     14\u001b[0m \u001b[43m    \u001b[49m\u001b[43mds_train\u001b[49m\u001b[43m,\u001b[49m\n\u001b[1;32m     15\u001b[0m \u001b[43m    \u001b[49m\u001b[43mepochs\u001b[49m\u001b[38;5;241;43m=\u001b[39;49m\u001b[38;5;241;43m6\u001b[39;49m\u001b[43m,\u001b[49m\n\u001b[1;32m     16\u001b[0m \u001b[43m    \u001b[49m\u001b[43mvalidation_data\u001b[49m\u001b[38;5;241;43m=\u001b[39;49m\u001b[43mds_test\u001b[49m\u001b[43m,\u001b[49m\n\u001b[1;32m     17\u001b[0m \u001b[43m)\u001b[49m\n",
      "File \u001b[0;32m~/miniconda3/envs/sarthak/lib/python3.10/site-packages/keras/utils/traceback_utils.py:67\u001b[0m, in \u001b[0;36mfilter_traceback.<locals>.error_handler\u001b[0;34m(*args, **kwargs)\u001b[0m\n\u001b[1;32m     65\u001b[0m \u001b[38;5;28;01mexcept\u001b[39;00m \u001b[38;5;167;01mException\u001b[39;00m \u001b[38;5;28;01mas\u001b[39;00m e:  \u001b[38;5;66;03m# pylint: disable=broad-except\u001b[39;00m\n\u001b[1;32m     66\u001b[0m   filtered_tb \u001b[38;5;241m=\u001b[39m _process_traceback_frames(e\u001b[38;5;241m.\u001b[39m__traceback__)\n\u001b[0;32m---> 67\u001b[0m   \u001b[38;5;28;01mraise\u001b[39;00m e\u001b[38;5;241m.\u001b[39mwith_traceback(filtered_tb) \u001b[38;5;28;01mfrom\u001b[39;00m \u001b[38;5;28mNone\u001b[39m\n\u001b[1;32m     68\u001b[0m \u001b[38;5;28;01mfinally\u001b[39;00m:\n\u001b[1;32m     69\u001b[0m   \u001b[38;5;28;01mdel\u001b[39;00m filtered_tb\n",
      "File \u001b[0;32m~/miniconda3/envs/sarthak/lib/python3.10/site-packages/tensorflow/python/eager/execute.py:54\u001b[0m, in \u001b[0;36mquick_execute\u001b[0;34m(op_name, num_outputs, inputs, attrs, ctx, name)\u001b[0m\n\u001b[1;32m     52\u001b[0m \u001b[38;5;28;01mtry\u001b[39;00m:\n\u001b[1;32m     53\u001b[0m   ctx\u001b[38;5;241m.\u001b[39mensure_initialized()\n\u001b[0;32m---> 54\u001b[0m   tensors \u001b[38;5;241m=\u001b[39m pywrap_tfe\u001b[38;5;241m.\u001b[39mTFE_Py_Execute(ctx\u001b[38;5;241m.\u001b[39m_handle, device_name, op_name,\n\u001b[1;32m     55\u001b[0m                                       inputs, attrs, num_outputs)\n\u001b[1;32m     56\u001b[0m \u001b[38;5;28;01mexcept\u001b[39;00m core\u001b[38;5;241m.\u001b[39m_NotOkStatusException \u001b[38;5;28;01mas\u001b[39;00m e:\n\u001b[1;32m     57\u001b[0m   \u001b[38;5;28;01mif\u001b[39;00m name \u001b[38;5;129;01mis\u001b[39;00m \u001b[38;5;129;01mnot\u001b[39;00m \u001b[38;5;28;01mNone\u001b[39;00m:\n",
      "\u001b[0;31mInternalError\u001b[0m: Graph execution error:\n\nDetected at node 'sequential_2/dense_4/MatMul' defined at (most recent call last):\n    File \"/home/interns2022/miniconda3/envs/sarthak/lib/python3.10/runpy.py\", line 196, in _run_module_as_main\n      return _run_code(code, main_globals, None,\n    File \"/home/interns2022/miniconda3/envs/sarthak/lib/python3.10/runpy.py\", line 86, in _run_code\n      exec(code, run_globals)\n    File \"/home/interns2022/miniconda3/envs/sarthak/lib/python3.10/site-packages/ipykernel_launcher.py\", line 16, in <module>\n      app.launch_new_instance()\n    File \"/home/interns2022/miniconda3/envs/sarthak/lib/python3.10/site-packages/traitlets/config/application.py\", line 846, in launch_instance\n      app.start()\n    File \"/home/interns2022/miniconda3/envs/sarthak/lib/python3.10/site-packages/ipykernel/kernelapp.py\", line 677, in start\n      self.io_loop.start()\n    File \"/home/interns2022/miniconda3/envs/sarthak/lib/python3.10/site-packages/tornado/platform/asyncio.py\", line 199, in start\n      self.asyncio_loop.run_forever()\n    File \"/home/interns2022/miniconda3/envs/sarthak/lib/python3.10/asyncio/base_events.py\", line 600, in run_forever\n      self._run_once()\n    File \"/home/interns2022/miniconda3/envs/sarthak/lib/python3.10/asyncio/base_events.py\", line 1896, in _run_once\n      handle._run()\n    File \"/home/interns2022/miniconda3/envs/sarthak/lib/python3.10/asyncio/events.py\", line 80, in _run\n      self._context.run(self._callback, *self._args)\n    File \"/home/interns2022/miniconda3/envs/sarthak/lib/python3.10/site-packages/ipykernel/kernelbase.py\", line 471, in dispatch_queue\n      await self.process_one()\n    File \"/home/interns2022/miniconda3/envs/sarthak/lib/python3.10/site-packages/ipykernel/kernelbase.py\", line 460, in process_one\n      await dispatch(*args)\n    File \"/home/interns2022/miniconda3/envs/sarthak/lib/python3.10/site-packages/ipykernel/kernelbase.py\", line 367, in dispatch_shell\n      await result\n    File \"/home/interns2022/miniconda3/envs/sarthak/lib/python3.10/site-packages/ipykernel/kernelbase.py\", line 662, in execute_request\n      reply_content = await reply_content\n    File \"/home/interns2022/miniconda3/envs/sarthak/lib/python3.10/site-packages/ipykernel/ipkernel.py\", line 360, in do_execute\n      res = shell.run_cell(code, store_history=store_history, silent=silent)\n    File \"/home/interns2022/miniconda3/envs/sarthak/lib/python3.10/site-packages/ipykernel/zmqshell.py\", line 532, in run_cell\n      return super().run_cell(*args, **kwargs)\n    File \"/home/interns2022/miniconda3/envs/sarthak/lib/python3.10/site-packages/IPython/core/interactiveshell.py\", line 2863, in run_cell\n      result = self._run_cell(\n    File \"/home/interns2022/miniconda3/envs/sarthak/lib/python3.10/site-packages/IPython/core/interactiveshell.py\", line 2909, in _run_cell\n      return runner(coro)\n    File \"/home/interns2022/miniconda3/envs/sarthak/lib/python3.10/site-packages/IPython/core/async_helpers.py\", line 129, in _pseudo_sync_runner\n      coro.send(None)\n    File \"/home/interns2022/miniconda3/envs/sarthak/lib/python3.10/site-packages/IPython/core/interactiveshell.py\", line 3106, in run_cell_async\n      has_raised = await self.run_ast_nodes(code_ast.body, cell_name,\n    File \"/home/interns2022/miniconda3/envs/sarthak/lib/python3.10/site-packages/IPython/core/interactiveshell.py\", line 3309, in run_ast_nodes\n      if await self.run_code(code, result, async_=asy):\n    File \"/home/interns2022/miniconda3/envs/sarthak/lib/python3.10/site-packages/IPython/core/interactiveshell.py\", line 3369, in run_code\n      exec(code_obj, self.user_global_ns, self.user_ns)\n    File \"/tmp/ipykernel_9758/2036511252.py\", line 13, in <cell line: 13>\n      fc_model.fit(\n    File \"/home/interns2022/miniconda3/envs/sarthak/lib/python3.10/site-packages/keras/utils/traceback_utils.py\", line 64, in error_handler\n      return fn(*args, **kwargs)\n    File \"/home/interns2022/miniconda3/envs/sarthak/lib/python3.10/site-packages/keras/engine/training.py\", line 1409, in fit\n      tmp_logs = self.train_function(iterator)\n    File \"/home/interns2022/miniconda3/envs/sarthak/lib/python3.10/site-packages/keras/engine/training.py\", line 1051, in train_function\n      return step_function(self, iterator)\n    File \"/home/interns2022/miniconda3/envs/sarthak/lib/python3.10/site-packages/keras/engine/training.py\", line 1040, in step_function\n      outputs = model.distribute_strategy.run(run_step, args=(data,))\n    File \"/home/interns2022/miniconda3/envs/sarthak/lib/python3.10/site-packages/keras/engine/training.py\", line 1030, in run_step\n      outputs = model.train_step(data)\n    File \"/home/interns2022/miniconda3/envs/sarthak/lib/python3.10/site-packages/keras/engine/training.py\", line 889, in train_step\n      y_pred = self(x, training=True)\n    File \"/home/interns2022/miniconda3/envs/sarthak/lib/python3.10/site-packages/keras/utils/traceback_utils.py\", line 64, in error_handler\n      return fn(*args, **kwargs)\n    File \"/home/interns2022/miniconda3/envs/sarthak/lib/python3.10/site-packages/keras/engine/training.py\", line 490, in __call__\n      return super().__call__(*args, **kwargs)\n    File \"/home/interns2022/miniconda3/envs/sarthak/lib/python3.10/site-packages/keras/utils/traceback_utils.py\", line 64, in error_handler\n      return fn(*args, **kwargs)\n    File \"/home/interns2022/miniconda3/envs/sarthak/lib/python3.10/site-packages/keras/engine/base_layer.py\", line 1014, in __call__\n      outputs = call_fn(inputs, *args, **kwargs)\n    File \"/home/interns2022/miniconda3/envs/sarthak/lib/python3.10/site-packages/keras/utils/traceback_utils.py\", line 92, in error_handler\n      return fn(*args, **kwargs)\n    File \"/home/interns2022/miniconda3/envs/sarthak/lib/python3.10/site-packages/keras/engine/sequential.py\", line 374, in call\n      return super(Sequential, self).call(inputs, training=training, mask=mask)\n    File \"/home/interns2022/miniconda3/envs/sarthak/lib/python3.10/site-packages/keras/engine/functional.py\", line 458, in call\n      return self._run_internal_graph(\n    File \"/home/interns2022/miniconda3/envs/sarthak/lib/python3.10/site-packages/keras/engine/functional.py\", line 596, in _run_internal_graph\n      outputs = node.layer(*args, **kwargs)\n    File \"/home/interns2022/miniconda3/envs/sarthak/lib/python3.10/site-packages/keras/utils/traceback_utils.py\", line 64, in error_handler\n      return fn(*args, **kwargs)\n    File \"/home/interns2022/miniconda3/envs/sarthak/lib/python3.10/site-packages/keras/engine/base_layer.py\", line 1014, in __call__\n      outputs = call_fn(inputs, *args, **kwargs)\n    File \"/home/interns2022/miniconda3/envs/sarthak/lib/python3.10/site-packages/keras/utils/traceback_utils.py\", line 92, in error_handler\n      return fn(*args, **kwargs)\n    File \"/home/interns2022/miniconda3/envs/sarthak/lib/python3.10/site-packages/keras/layers/core/dense.py\", line 221, in call\n      outputs = tf.matmul(a=inputs, b=self.kernel)\nNode: 'sequential_2/dense_4/MatMul'\nAttempting to perform BLAS operation using StreamExecutor without BLAS support\n\t [[{{node sequential_2/dense_4/MatMul}}]] [Op:__inference_train_function_2212]"
     ]
    }
   ],
   "source": [
    "fc_model = tf.keras.models.Sequential([\n",
    "  tf.keras.layers.Flatten(input_shape=(28, 28)),\n",
    "  tf.keras.layers.Dense(128, activation='relu'),\n",
    "  tf.keras.layers.Dense(10),\n",
    "  tf.keras.layers.Softmax(axis = -1)\n",
    "])\n",
    "fc_model.compile(\n",
    "    optimizer=tf.keras.optimizers.Adam(0.001),\n",
    "    loss=tf.keras.losses.SparseCategoricalCrossentropy(from_logits=True),\n",
    "    metrics=[tf.keras.metrics.SparseCategoricalAccuracy()],\n",
    ")\n",
    "\n",
    "fc_model.fit(\n",
    "    ds_train,\n",
    "    epochs=6,\n",
    "    validation_data=ds_test,\n",
    ")"
   ]
  },
  {
   "cell_type": "code",
   "execution_count": null,
   "id": "5770549a",
   "metadata": {},
   "outputs": [],
   "source": [
    "fc_distance_obj = uncertainty_from_distances(fc_model, 100, 20, 28, 1)"
   ]
  },
  {
   "cell_type": "code",
   "execution_count": null,
   "id": "1cbfbba7",
   "metadata": {
    "scrolled": true
   },
   "outputs": [],
   "source": [
    "ds_fc_uni_sample = sample_uniform(ds_train, 0.1, fc_distance_obj, 28, 1)"
   ]
  },
  {
   "cell_type": "code",
   "execution_count": 13,
   "id": "1bf34f51",
   "metadata": {},
   "outputs": [
    {
     "ename": "NameError",
     "evalue": "name 'ds_fc_uni_sample' is not defined",
     "output_type": "error",
     "traceback": [
      "\u001b[0;31m---------------------------------------------------------------------------\u001b[0m",
      "\u001b[0;31mNameError\u001b[0m                                 Traceback (most recent call last)",
      "Input \u001b[0;32mIn [13]\u001b[0m, in \u001b[0;36m<cell line: 1>\u001b[0;34m()\u001b[0m\n\u001b[0;32m----> 1\u001b[0m ds_fc_uni_sample \u001b[38;5;241m=\u001b[39m tf\u001b[38;5;241m.\u001b[39mslice(\u001b[43mds_fc_uni_sample\u001b[49m, [\u001b[38;5;241m0\u001b[39m, \u001b[38;5;241m0\u001b[39m, \u001b[38;5;241m0\u001b[39m, \u001b[38;5;241m0\u001b[39m], [tf\u001b[38;5;241m.\u001b[39mshape(ds_fc_uni_sample)[\u001b[38;5;241m0\u001b[39m] \u001b[38;5;241m-\u001b[39m \u001b[38;5;241m1\u001b[39m, \u001b[38;5;241m28\u001b[39m, \u001b[38;5;241m28\u001b[39m, \u001b[38;5;241m1\u001b[39m]) \n\u001b[1;32m      2\u001b[0m y \u001b[38;5;241m=\u001b[39m tf\u001b[38;5;241m.\u001b[39mrandom\u001b[38;5;241m.\u001b[39muniform([\u001b[38;5;28mlen\u001b[39m(ds_fc_uni_sample)], minval \u001b[38;5;241m=\u001b[39m \u001b[38;5;241m0\u001b[39m, maxval \u001b[38;5;241m=\u001b[39m \u001b[38;5;241m9\u001b[39m)\n\u001b[1;32m      3\u001b[0m ds_fc_uniform_sampled \u001b[38;5;241m=\u001b[39m tf\u001b[38;5;241m.\u001b[39mdata\u001b[38;5;241m.\u001b[39mDataset\u001b[38;5;241m.\u001b[39mfrom_tensor_slices((ds_fc_uni_sample, y))\n",
      "\u001b[0;31mNameError\u001b[0m: name 'ds_fc_uni_sample' is not defined"
     ]
    }
   ],
   "source": [
    "ds_fc_uni_sample = tf.slice(ds_fc_uni_sample, [0, 0, 0, 0], [tf.shape(ds_fc_uni_sample)[0] - 1, 28, 28, 1]) \n",
    "y = tf.random.uniform([len(ds_fc_uni_sample)], minval = 0, maxval = 9)\n",
    "ds_fc_uniform_sampled = tf.data.Dataset.from_tensor_slices((ds_fc_uni_sample, y))\n",
    "ds_fc_uniform_sampled = ds_fc_uniform_sampled.cache()\n",
    "ds_fc_uniform_sampled = ds_fc_uniform_sampled.shuffle(ds_info.splits['train'].num_examples)\n",
    "ds_fc_uniform_sampled = ds_fc_uniform_sampled.batch(100)\n",
    "ds_fc_uniform_sampled = ds_fc_uniform_sampled.prefetch(tf.data.AUTOTUNE)"
   ]
  },
  {
   "cell_type": "code",
   "execution_count": 14,
   "id": "bff6906f",
   "metadata": {
    "scrolled": true
   },
   "outputs": [
    {
     "name": "stderr",
     "output_type": "stream",
     "text": [
      "2022-06-24 16:10:36.593860: E tensorflow/stream_executor/cuda/cuda_blas.cc:232] failed to create cublas handle: CUBLAS_STATUS_NOT_INITIALIZED\n",
      "2022-06-24 16:10:36.593898: E tensorflow/stream_executor/cuda/cuda_blas.cc:234] Failure to initialize cublas may be due to OOM (cublas needs some free memory when you initialize it, and your deep-learning framework may have preallocated more than its fair share), or may be because this binary was not built with support for the GPU in your machine.\n",
      "2022-06-24 16:10:36.593922: W tensorflow/core/framework/op_kernel.cc:1745] OP_REQUIRES failed at matmul_op_impl.h:438 : INTERNAL: Attempting to perform BLAS operation using StreamExecutor without BLAS support\n"
     ]
    },
    {
     "ename": "InternalError",
     "evalue": "Exception encountered when calling layer \"dense\" (type Dense).\n\nAttempting to perform BLAS operation using StreamExecutor without BLAS support [Op:MatMul]\n\nCall arguments received by layer \"dense\" (type Dense):\n  • inputs=tf.Tensor(shape=(100, 784), dtype=float32)",
     "output_type": "error",
     "traceback": [
      "\u001b[0;31m---------------------------------------------------------------------------\u001b[0m",
      "\u001b[0;31mInternalError\u001b[0m                             Traceback (most recent call last)",
      "Input \u001b[0;32mIn [14]\u001b[0m, in \u001b[0;36m<cell line: 1>\u001b[0;34m()\u001b[0m\n\u001b[0;32m----> 1\u001b[0m ds_fc_high_sample \u001b[38;5;241m=\u001b[39m \u001b[43msample_high_unc\u001b[49m\u001b[43m(\u001b[49m\u001b[43mds_train\u001b[49m\u001b[43m,\u001b[49m\u001b[43m \u001b[49m\u001b[38;5;241;43m0.1\u001b[39;49m\u001b[43m,\u001b[49m\u001b[43m \u001b[49m\u001b[43mfc_distance_obj\u001b[49m\u001b[43m,\u001b[49m\u001b[43m \u001b[49m\u001b[38;5;241;43m28\u001b[39;49m\u001b[43m,\u001b[49m\u001b[43m \u001b[49m\u001b[38;5;241;43m1\u001b[39;49m\u001b[43m)\u001b[49m\n",
      "File \u001b[0;32m~/sarthak/final_experiments/sampling_unc.py:29\u001b[0m, in \u001b[0;36msample_high_unc\u001b[0;34m(dataset, fraction, unc_obj, im_dim, im_channels)\u001b[0m\n\u001b[1;32m     27\u001b[0m i \u001b[38;5;241m=\u001b[39m \u001b[38;5;241m0\u001b[39m\n\u001b[1;32m     28\u001b[0m \u001b[38;5;28;01mfor\u001b[39;00m (a, b) \u001b[38;5;129;01min\u001b[39;00m dataset:\n\u001b[0;32m---> 29\u001b[0m     ordered_unc_list \u001b[38;5;241m=\u001b[39m tf\u001b[38;5;241m.\u001b[39mmake_ndarray(tf\u001b[38;5;241m.\u001b[39mmake_tensor_proto(\u001b[43munc_obj\u001b[49m\u001b[38;5;241;43m.\u001b[39;49m\u001b[43mget_uncertainty\u001b[49m\u001b[43m(\u001b[49m\u001b[43ma\u001b[49m\u001b[43m)\u001b[49m))\n\u001b[1;32m     30\u001b[0m     argmax_list \u001b[38;5;241m=\u001b[39m np\u001b[38;5;241m.\u001b[39margsort(ordered_unc_list)\n\u001b[1;32m     31\u001b[0m     sampled_index \u001b[38;5;241m=\u001b[39m argmax_list[\u001b[38;5;241m0\u001b[39m:\u001b[38;5;28mint\u001b[39m(\u001b[38;5;28mlen\u001b[39m(argmax_list)\u001b[38;5;241m*\u001b[39mfraction):\u001b[38;5;241m1\u001b[39m]\n",
      "File \u001b[0;32m~/sarthak/final_experiments/uncertainty_from_distance.py:74\u001b[0m, in \u001b[0;36muncertainty_from_distances.get_uncertainty\u001b[0;34m(self, input_vector)\u001b[0m\n\u001b[1;32m     73\u001b[0m \u001b[38;5;28;01mdef\u001b[39;00m \u001b[38;5;21mget_uncertainty\u001b[39m(\u001b[38;5;28mself\u001b[39m, input_vector):\n\u001b[0;32m---> 74\u001b[0m     \u001b[38;5;28;01mreturn\u001b[39;00m tf\u001b[38;5;241m.\u001b[39mmath\u001b[38;5;241m.\u001b[39mreduce_euclidean_norm(\u001b[38;5;28;43mself\u001b[39;49m\u001b[38;5;241;43m.\u001b[39;49m\u001b[43mbinary_search\u001b[49m\u001b[43m(\u001b[49m\u001b[43minput_vector\u001b[49m\u001b[43m)\u001b[49m \u001b[38;5;241m-\u001b[39m input_vector, keepdims \u001b[38;5;241m=\u001b[39m \u001b[38;5;28;01mFalse\u001b[39;00m, axis \u001b[38;5;241m=\u001b[39m (\u001b[38;5;241m1\u001b[39m, \u001b[38;5;241m2\u001b[39m, \u001b[38;5;241m3\u001b[39m))\n",
      "File \u001b[0;32m~/sarthak/final_experiments/uncertainty_from_distance.py:56\u001b[0m, in \u001b[0;36muncertainty_from_distances.binary_search\u001b[0;34m(self, input_vector)\u001b[0m\n\u001b[1;32m     54\u001b[0m \u001b[38;5;28;01mdef\u001b[39;00m \u001b[38;5;21mbinary_search\u001b[39m(\u001b[38;5;28mself\u001b[39m, input_vector):\n\u001b[1;32m     55\u001b[0m     sample1 \u001b[38;5;241m=\u001b[39m tf\u001b[38;5;241m.\u001b[39mVariable(input_vector, dtype\u001b[38;5;241m=\u001b[39m\u001b[38;5;28mfloat\u001b[39m)\n\u001b[0;32m---> 56\u001b[0m     waste, y_og \u001b[38;5;241m=\u001b[39m \u001b[38;5;28;43mself\u001b[39;49m\u001b[38;5;241;43m.\u001b[39;49m\u001b[43mget_top1_class\u001b[49m\u001b[43m(\u001b[49m\u001b[43minput_vector\u001b[49m\u001b[43m)\u001b[49m\n\u001b[1;32m     57\u001b[0m     sample2 \u001b[38;5;241m=\u001b[39m tf\u001b[38;5;241m.\u001b[39mVariable(\u001b[38;5;28mself\u001b[39m\u001b[38;5;241m.\u001b[39mgenerate_augmented_vectors(input_vector), dtype\u001b[38;5;241m=\u001b[39m\u001b[38;5;28mfloat\u001b[39m)\n\u001b[1;32m     58\u001b[0m     i \u001b[38;5;241m=\u001b[39m \u001b[38;5;241m0\u001b[39m\n",
      "File \u001b[0;32m~/sarthak/final_experiments/uncertainty_from_distance.py:20\u001b[0m, in \u001b[0;36muncertainty_from_distances.get_top1_class\u001b[0;34m(self, input_vector)\u001b[0m\n\u001b[1;32m     19\u001b[0m \u001b[38;5;28;01mdef\u001b[39;00m \u001b[38;5;21mget_top1_class\u001b[39m(\u001b[38;5;28mself\u001b[39m, input_vector):\n\u001b[0;32m---> 20\u001b[0m     out \u001b[38;5;241m=\u001b[39m \u001b[38;5;28;43mself\u001b[39;49m\u001b[38;5;241;43m.\u001b[39;49m\u001b[43mget_soft_out\u001b[49m\u001b[43m(\u001b[49m\u001b[43minput_vector\u001b[49m\u001b[43m)\u001b[49m\n\u001b[1;32m     21\u001b[0m     top1_index \u001b[38;5;241m=\u001b[39m tf\u001b[38;5;241m.\u001b[39mmath\u001b[38;5;241m.\u001b[39margmax(out ,axis \u001b[38;5;241m=\u001b[39m \u001b[38;5;241m1\u001b[39m)\n\u001b[1;32m     22\u001b[0m     top1_list \u001b[38;5;241m=\u001b[39m tf\u001b[38;5;241m.\u001b[39mmath\u001b[38;5;241m.\u001b[39mreduce_max(out, axis \u001b[38;5;241m=\u001b[39m \u001b[38;5;241m1\u001b[39m)\n",
      "File \u001b[0;32m~/sarthak/final_experiments/uncertainty_from_distance.py:17\u001b[0m, in \u001b[0;36muncertainty_from_distances.get_soft_out\u001b[0;34m(self, input_vector)\u001b[0m\n\u001b[1;32m     16\u001b[0m \u001b[38;5;28;01mdef\u001b[39;00m \u001b[38;5;21mget_soft_out\u001b[39m(\u001b[38;5;28mself\u001b[39m, input_vector):\n\u001b[0;32m---> 17\u001b[0m     \u001b[38;5;28;01mreturn\u001b[39;00m \u001b[38;5;28;43mself\u001b[39;49m\u001b[38;5;241;43m.\u001b[39;49m\u001b[43mmodel\u001b[49m\u001b[43m(\u001b[49m\u001b[43minput_vector\u001b[49m\u001b[43m)\u001b[49m\n",
      "File \u001b[0;32m~/miniconda3/envs/sarthak/lib/python3.10/site-packages/keras/utils/traceback_utils.py:67\u001b[0m, in \u001b[0;36mfilter_traceback.<locals>.error_handler\u001b[0;34m(*args, **kwargs)\u001b[0m\n\u001b[1;32m     65\u001b[0m \u001b[38;5;28;01mexcept\u001b[39;00m \u001b[38;5;167;01mException\u001b[39;00m \u001b[38;5;28;01mas\u001b[39;00m e:  \u001b[38;5;66;03m# pylint: disable=broad-except\u001b[39;00m\n\u001b[1;32m     66\u001b[0m   filtered_tb \u001b[38;5;241m=\u001b[39m _process_traceback_frames(e\u001b[38;5;241m.\u001b[39m__traceback__)\n\u001b[0;32m---> 67\u001b[0m   \u001b[38;5;28;01mraise\u001b[39;00m e\u001b[38;5;241m.\u001b[39mwith_traceback(filtered_tb) \u001b[38;5;28;01mfrom\u001b[39;00m \u001b[38;5;28mNone\u001b[39m\n\u001b[1;32m     68\u001b[0m \u001b[38;5;28;01mfinally\u001b[39;00m:\n\u001b[1;32m     69\u001b[0m   \u001b[38;5;28;01mdel\u001b[39;00m filtered_tb\n",
      "File \u001b[0;32m~/miniconda3/envs/sarthak/lib/python3.10/site-packages/tensorflow/python/framework/ops.py:7164\u001b[0m, in \u001b[0;36mraise_from_not_ok_status\u001b[0;34m(e, name)\u001b[0m\n\u001b[1;32m   7162\u001b[0m \u001b[38;5;28;01mdef\u001b[39;00m \u001b[38;5;21mraise_from_not_ok_status\u001b[39m(e, name):\n\u001b[1;32m   7163\u001b[0m   e\u001b[38;5;241m.\u001b[39mmessage \u001b[38;5;241m+\u001b[39m\u001b[38;5;241m=\u001b[39m (\u001b[38;5;124m\"\u001b[39m\u001b[38;5;124m name: \u001b[39m\u001b[38;5;124m\"\u001b[39m \u001b[38;5;241m+\u001b[39m name \u001b[38;5;28;01mif\u001b[39;00m name \u001b[38;5;129;01mis\u001b[39;00m \u001b[38;5;129;01mnot\u001b[39;00m \u001b[38;5;28;01mNone\u001b[39;00m \u001b[38;5;28;01melse\u001b[39;00m \u001b[38;5;124m\"\u001b[39m\u001b[38;5;124m\"\u001b[39m)\n\u001b[0;32m-> 7164\u001b[0m   \u001b[38;5;28;01mraise\u001b[39;00m core\u001b[38;5;241m.\u001b[39m_status_to_exception(e) \u001b[38;5;28;01mfrom\u001b[39;00m \u001b[38;5;28mNone\u001b[39m\n",
      "\u001b[0;31mInternalError\u001b[0m: Exception encountered when calling layer \"dense\" (type Dense).\n\nAttempting to perform BLAS operation using StreamExecutor without BLAS support [Op:MatMul]\n\nCall arguments received by layer \"dense\" (type Dense):\n  • inputs=tf.Tensor(shape=(100, 784), dtype=float32)"
     ]
    }
   ],
   "source": [
    "ds_fc_high_sample = sample_high_unc(ds_train, 0.1, fc_distance_obj, 28, 1)"
   ]
  },
  {
   "cell_type": "code",
   "execution_count": 10,
   "id": "689aa9ef",
   "metadata": {},
   "outputs": [],
   "source": [
    "ds_fc_high_sample = tf.slice(ds_fc_high_sample, [0, 0, 0, 0], [tf.shape(ds_fc_high_sample)[0] - 1, 28, 28, 1]) \n",
    "y = tf.random.uniform([len(ds_fc_high_sample)], minval = 0, maxval = 9)\n",
    "ds_fc_high_sampled = tf.data.Dataset.from_tensor_slices((ds_fc_high_sample, y))\n",
    "ds_fc_high_sampled = ds_fc_high_sampled.cache()\n",
    "ds_fc_high_sampled = ds_fc_high_sampled.shuffle(ds_info.splits['train'].num_examples)\n",
    "ds_fc_high_sampled = ds_fc_high_sampled.batch(100)\n",
    "ds_fc_high_sampled = ds_fc_high_sampled.prefetch(tf.data.AUTOTUNE)"
   ]
  },
  {
   "cell_type": "code",
   "execution_count": 11,
   "id": "493493f6",
   "metadata": {},
   "outputs": [],
   "source": [
    "ds_rand_uniform = tf.random.uniform([60000, 28, 28, 1], minval = 0, maxval = 1)\n",
    "y = tf.random.uniform([60000], minval = 0, maxval = 9)\n",
    "ds_rand_uniform_sampled = tf.data.Dataset.from_tensor_slices((ds_rand_uniform, y))\n",
    "ds_rand_uniform_sampled = ds_rand_uniform_sampled.cache()\n",
    "ds_rand_uniform_sampled = ds_rand_uniform_sampled.shuffle(ds_info.splits['train'].num_examples)\n",
    "ds_rand_uniform_sampled = ds_rand_uniform_sampled.batch(100)\n",
    "ds_rand_uniform_sampled = ds_rand_uniform_sampled.prefetch(tf.data.AUTOTUNE)"
   ]
  },
  {
   "cell_type": "code",
   "execution_count": null,
   "id": "95a6c6ae",
   "metadata": {},
   "outputs": [
    {
     "name": "stdout",
     "output_type": "stream",
     "text": [
      "0\n",
      "1\n",
      "2\n",
      "3\n",
      "4\n",
      "5\n",
      "6\n",
      "7\n",
      "8\n",
      "9\n",
      "10\n",
      "11\n",
      "12\n",
      "13\n",
      "14\n",
      "15\n",
      "16\n",
      "17\n",
      "18\n",
      "19\n",
      "20\n",
      "21\n",
      "22\n",
      "23\n",
      "24\n",
      "25\n",
      "26\n",
      "27\n",
      "28\n",
      "29\n",
      "30\n",
      "31\n",
      "32\n",
      "33\n",
      "34\n",
      "35\n",
      "36\n",
      "37\n",
      "38\n",
      "39\n",
      "40\n",
      "41\n",
      "42\n",
      "43\n",
      "44\n",
      "45\n",
      "46\n",
      "47\n",
      "48\n",
      "49\n",
      "50\n",
      "51\n",
      "52\n",
      "53\n",
      "54\n",
      "55\n",
      "56\n",
      "57\n",
      "58\n",
      "59\n",
      "60\n",
      "61\n",
      "62\n",
      "63\n",
      "64\n",
      "65\n",
      "66\n",
      "67\n",
      "68\n",
      "69\n",
      "70\n",
      "71\n",
      "72\n",
      "73\n",
      "74\n",
      "75\n",
      "76\n",
      "77\n",
      "78\n",
      "79\n",
      "80\n",
      "81\n",
      "82\n",
      "83\n",
      "84\n",
      "85\n",
      "86\n",
      "87\n",
      "88\n",
      "89\n",
      "90\n",
      "91\n",
      "92\n",
      "93\n",
      "94\n",
      "95\n",
      "96\n",
      "97\n",
      "98\n",
      "99\n",
      "100\n",
      "101\n",
      "102\n",
      "103\n",
      "104\n",
      "105\n",
      "106\n",
      "107\n",
      "108\n",
      "109\n",
      "110\n",
      "111\n",
      "112\n",
      "113\n",
      "114\n",
      "115\n",
      "116\n",
      "117\n",
      "118\n",
      "119\n",
      "120\n",
      "121\n",
      "122\n",
      "123\n",
      "124\n",
      "125\n",
      "126\n",
      "127\n",
      "128\n",
      "129\n",
      "130\n",
      "131\n",
      "132\n",
      "133\n",
      "134\n",
      "135\n",
      "136\n",
      "137\n",
      "138\n",
      "139\n",
      "140\n",
      "141\n",
      "142\n",
      "143\n",
      "144\n",
      "145\n",
      "146\n",
      "147\n",
      "148\n",
      "149\n",
      "150\n",
      "151\n",
      "152\n",
      "153\n",
      "154\n",
      "155\n",
      "156\n",
      "157\n",
      "158\n",
      "159\n",
      "160\n",
      "161\n",
      "162\n",
      "163\n",
      "164\n",
      "165\n",
      "166\n",
      "167\n",
      "168\n",
      "169\n",
      "170\n",
      "171\n",
      "172\n",
      "173\n",
      "174\n",
      "175\n",
      "176\n",
      "177\n",
      "178\n",
      "179\n",
      "180\n",
      "181\n",
      "182\n",
      "183\n",
      "184\n",
      "185\n",
      "186\n",
      "187\n",
      "188\n",
      "189\n",
      "190\n",
      "191\n",
      "192\n",
      "193\n",
      "194\n",
      "195\n",
      "196\n",
      "197\n",
      "198\n",
      "199\n",
      "200\n",
      "201\n",
      "202\n",
      "203\n",
      "204\n",
      "205\n",
      "206\n",
      "207\n",
      "208\n",
      "209\n",
      "210\n",
      "211\n",
      "212\n",
      "213\n",
      "214\n",
      "215\n",
      "216\n",
      "217\n",
      "218\n",
      "219\n",
      "220\n",
      "221\n",
      "222\n",
      "223\n",
      "224\n",
      "225\n",
      "226\n",
      "227\n",
      "228\n",
      "229\n",
      "230\n",
      "231\n",
      "232\n",
      "233\n",
      "234\n",
      "235\n",
      "236\n",
      "237\n",
      "238\n",
      "239\n",
      "240\n",
      "241\n",
      "242\n",
      "243\n",
      "244\n",
      "245\n",
      "246\n",
      "247\n",
      "248\n",
      "249\n",
      "250\n",
      "251\n",
      "252\n",
      "253\n",
      "254\n",
      "255\n",
      "256\n",
      "257\n",
      "258\n",
      "259\n",
      "260\n",
      "261\n",
      "262\n",
      "263\n",
      "264\n",
      "265\n",
      "266\n",
      "267\n",
      "268\n",
      "269\n",
      "270\n",
      "271\n",
      "272\n",
      "273\n",
      "274\n",
      "275\n",
      "276\n",
      "277\n",
      "278\n",
      "279\n",
      "280\n",
      "281\n",
      "282\n",
      "283\n",
      "284\n",
      "285\n",
      "286\n",
      "287\n",
      "288\n",
      "289\n",
      "290\n",
      "291\n",
      "292\n",
      "293\n",
      "294\n",
      "295\n",
      "296\n",
      "297\n",
      "298\n",
      "299\n",
      "300\n",
      "301\n",
      "302\n",
      "303\n",
      "304\n",
      "305\n",
      "306\n",
      "307\n",
      "308\n",
      "309\n",
      "310\n",
      "311\n",
      "312\n",
      "313\n",
      "314\n",
      "315\n",
      "316\n",
      "317\n",
      "318\n",
      "319\n",
      "320\n",
      "321\n",
      "322\n",
      "323\n",
      "324\n",
      "325\n",
      "326\n",
      "327\n",
      "328\n",
      "329\n",
      "330\n",
      "331\n",
      "332\n",
      "333\n",
      "334\n",
      "335\n",
      "336\n",
      "337\n",
      "338\n",
      "339\n",
      "340\n",
      "341\n",
      "342\n",
      "343\n",
      "344\n",
      "345\n",
      "346\n",
      "347\n",
      "348\n",
      "349\n",
      "350\n",
      "351\n",
      "352\n",
      "353\n",
      "354\n",
      "355\n",
      "356\n",
      "357\n",
      "358\n",
      "359\n",
      "360\n",
      "361\n",
      "362\n",
      "363\n",
      "364\n",
      "365\n",
      "366\n",
      "367\n",
      "368\n",
      "369\n",
      "370\n",
      "371\n",
      "372\n",
      "373\n",
      "374\n",
      "375\n",
      "376\n",
      "377\n",
      "378\n",
      "379\n",
      "380\n",
      "381\n",
      "382\n",
      "383\n",
      "384\n",
      "385\n",
      "386\n",
      "387\n",
      "388\n",
      "389\n",
      "390\n",
      "391\n",
      "392\n",
      "393\n",
      "394\n",
      "395\n",
      "396\n",
      "397\n",
      "398\n",
      "399\n",
      "400\n",
      "401\n",
      "402\n",
      "403\n",
      "404\n",
      "405\n",
      "406\n",
      "407\n",
      "408\n",
      "409\n",
      "410\n",
      "411\n",
      "412\n",
      "413\n",
      "414\n",
      "415\n",
      "416\n",
      "417\n",
      "418\n",
      "419\n",
      "420\n",
      "421\n",
      "422\n",
      "423\n",
      "424\n",
      "425\n",
      "426\n",
      "427\n",
      "428\n",
      "429\n",
      "430\n",
      "431\n",
      "432\n",
      "433\n",
      "434\n",
      "435\n",
      "436\n",
      "437\n",
      "438\n",
      "439\n",
      "440\n",
      "441\n",
      "442\n",
      "443\n",
      "444\n",
      "445\n",
      "446\n",
      "447\n",
      "448\n",
      "449\n",
      "450\n",
      "451\n",
      "452\n",
      "453\n",
      "454\n",
      "455\n",
      "456\n",
      "457\n",
      "458\n",
      "459\n",
      "460\n",
      "461\n",
      "462\n",
      "463\n",
      "464\n",
      "465\n",
      "466\n",
      "467\n",
      "468\n",
      "469\n",
      "470\n",
      "471\n",
      "472\n",
      "473\n",
      "474\n",
      "475\n",
      "476\n",
      "477\n",
      "478\n",
      "479\n",
      "480\n",
      "481\n",
      "482\n",
      "483\n",
      "484\n",
      "485\n",
      "486\n",
      "487\n"
     ]
    }
   ],
   "source": [
    "ds_fc_low_sample = sample_low_unc(ds_train, 0.1, fc_distance_obj, 28, 1)"
   ]
  },
  {
   "cell_type": "code",
   "execution_count": null,
   "id": "c1bd8e35",
   "metadata": {},
   "outputs": [],
   "source": [
    "ds_fc_low_sample = tf.slice(ds_fc_low_sample, [0, 0, 0, 0], [tf.shape(ds_fc_low_sample)[0] - 1, 28, 28, 1]) \n",
    "y = tf.random.uniform([len(ds_fc_low_sample)], minval = 0, maxval = 9)\n",
    "ds_fc_low_sampled = tf.data.Dataset.from_tensor_slices((ds_fc_low_sample, y))\n",
    "ds_fc_low_sampled = ds_fc_low_sampled.cache()\n",
    "ds_fc_low_sampled = ds_fc_low_sampled.shuffle(ds_info.splits['train'].num_examples)\n",
    "ds_fc_low_sampled = ds_fc_low_sampled.batch(100)\n",
    "ds_fc_low_sampled = ds_fc_low_sampled.prefetch(tf.data.AUTOTUNE)"
   ]
  },
  {
   "cell_type": "code",
   "execution_count": null,
   "id": "2c1d59d6",
   "metadata": {},
   "outputs": [],
   "source": [
    "stolen_1 = tf.keras.models.Sequential([\n",
    "  tf.keras.layers.Flatten(input_shape=(28, 28)),\n",
    "  tf.keras.layers.Dense(128, activation='relu'),\n",
    "  tf.keras.layers.Dense(10),\n",
    "  tf.keras.layers.Softmax(axis = -1)\n",
    "])\n",
    "stolen_2 = tf.keras.models.Sequential([\n",
    "  tf.keras.layers.Flatten(input_shape=(28, 28)),\n",
    "  tf.keras.layers.Dense(10),\n",
    "  tf.keras.layers.Softmax(axis = -1)\n",
    "])\n",
    "stolen_3 = tf.keras.models.Sequential([\n",
    "  tf.keras.layers.Flatten(input_shape=(28, 28)),\n",
    "  tf.keras.layers.Dense(128, activation='relu'),\n",
    "  tf.keras.layers.Dense(10),\n",
    "  tf.keras.layers.Softmax(axis = -1)\n",
    "])\n",
    "stolen_4 = tf.keras.models.Sequential([\n",
    "  tf.keras.layers.Flatten(input_shape=(28, 28)),\n",
    "  tf.keras.layers.Dense(10),\n",
    "  tf.keras.layers.Softmax(axis = -1)\n",
    "])\n",
    "stolen_5 = tf.keras.models.Sequential([\n",
    "  tf.keras.layers.Flatten(input_shape=(28, 28)),\n",
    "  tf.keras.layers.Dense(128, activation='relu'),\n",
    "  tf.keras.layers.Dense(10),\n",
    "  tf.keras.layers.Softmax(axis = -1)\n",
    "])\n",
    "stolen_6 = tf.keras.models.Sequential([\n",
    "  tf.keras.layers.Flatten(input_shape=(28, 28)),\n",
    "  tf.keras.layers.Dense(10),\n",
    "  tf.keras.layers.Softmax(axis = -1)\n",
    "])\n",
    "stolen_7 = tf.keras.models.Sequential([\n",
    "  tf.keras.layers.Flatten(input_shape=(28, 28)),\n",
    "  tf.keras.layers.Dense(128, activation='relu'),\n",
    "  tf.keras.layers.Dense(10),\n",
    "  tf.keras.layers.Softmax(axis = -1)\n",
    "])\n",
    "stolen_8 = tf.keras.models.Sequential([\n",
    "  tf.keras.layers.Flatten(input_shape=(28, 28)),\n",
    "  tf.keras.layers.Dense(10),\n",
    "  tf.keras.layers.Softmax(axis = -1)\n",
    "])\n",
    "stolen_9 = tf.keras.models.Sequential([\n",
    "  tf.keras.layers.Flatten(input_shape=(28, 28)),\n",
    "  tf.keras.layers.Dense(128, activation='relu'),\n",
    "  tf.keras.layers.Dense(10),\n",
    "  tf.keras.layers.Softmax(axis = -1)\n",
    "])\n",
    "stolen_10 = tf.keras.models.Sequential([\n",
    "  tf.keras.layers.Flatten(input_shape=(28, 28)),\n",
    "  tf.keras.layers.Dense(10),\n",
    "  tf.keras.layers.Softmax(axis = -1)\n",
    "])\n",
    "stolen_11 = tf.keras.models.Sequential([\n",
    "  tf.keras.layers.Flatten(input_shape=(28, 28)),\n",
    "  tf.keras.layers.Dense(128, activation='relu'),\n",
    "  tf.keras.layers.Dense(10),\n",
    "  tf.keras.layers.Softmax(axis = -1)\n",
    "])\n",
    "stolen_12 = tf.keras.models.Sequential([\n",
    "  tf.keras.layers.Flatten(input_shape=(28, 28)),\n",
    "  tf.keras.layers.Dense(10),\n",
    "  tf.keras.layers.Softmax(axis = -1)\n",
    "])"
   ]
  },
  {
   "cell_type": "code",
   "execution_count": null,
   "id": "b074d33c",
   "metadata": {},
   "outputs": [],
   "source": [
    "attack_fn(fc_model, stolen_1, ds_train, 10, 28, 1, 100, False, ds_test)"
   ]
  },
  {
   "cell_type": "code",
   "execution_count": null,
   "id": "ab297da3",
   "metadata": {},
   "outputs": [],
   "source": [
    "attack_fn(fc_model, stolen_2, ds_train, 10, 28, 1, 100, False, ds_test)"
   ]
  },
  {
   "cell_type": "code",
   "execution_count": null,
   "id": "512db74b",
   "metadata": {
    "scrolled": true
   },
   "outputs": [],
   "source": [
    "attack_fn(fc_model, stolen_3, ds_fc_uniform_sampled, 10, 28, 1, 100, False, ds_test)"
   ]
  },
  {
   "cell_type": "code",
   "execution_count": null,
   "id": "cd1b7dca",
   "metadata": {
    "scrolled": true
   },
   "outputs": [],
   "source": [
    "attack_fn(fc_model, stolen_4, ds_fc_uniform_sampled, 10, 28, 1, 100, False, ds_test)"
   ]
  },
  {
   "cell_type": "code",
   "execution_count": null,
   "id": "d2e4baf7",
   "metadata": {
    "scrolled": true
   },
   "outputs": [],
   "source": [
    "attack_fn(fc_model, stolen_5, ds_fc_high_sampled, 10, 28, 1, 100, False, ds_test)"
   ]
  },
  {
   "cell_type": "code",
   "execution_count": null,
   "id": "820b91d0",
   "metadata": {
    "scrolled": true
   },
   "outputs": [],
   "source": [
    "attack_fn(fc_model, stolen_6, ds_fc_high_sampled, 10, 28, 1, 100, False, ds_test)"
   ]
  },
  {
   "cell_type": "code",
   "execution_count": null,
   "id": "c3ffe77b",
   "metadata": {},
   "outputs": [],
   "source": [
    "attack_fn(fc_model, stolen_7, ds_rand_uniform_sampled, 10, 28, 1, 100, False, ds_test)"
   ]
  },
  {
   "cell_type": "code",
   "execution_count": null,
   "id": "254132ef",
   "metadata": {},
   "outputs": [],
   "source": [
    "attack_fn(fc_model, stolen_8, ds_rand_uniform_sampled, 10, 28, 1, 100, False, ds_test)"
   ]
  },
  {
   "cell_type": "code",
   "execution_count": null,
   "id": "ecdb091d",
   "metadata": {},
   "outputs": [],
   "source": [
    "attack_fn(fc_model, stolen_9, ds_rand_uniform_sampled, 10, 28, 1, 100, True, ds_test)"
   ]
  },
  {
   "cell_type": "code",
   "execution_count": null,
   "id": "3e4cd2fc",
   "metadata": {},
   "outputs": [],
   "source": [
    "attack_fn(fc_model, stolen_10, ds_rand_uniform_sampled, 10, 28, 1, 100, True, ds_test)"
   ]
  },
  {
   "cell_type": "code",
   "execution_count": null,
   "id": "2e360713",
   "metadata": {
    "scrolled": true
   },
   "outputs": [],
   "source": [
    "attack_fn(fc_model, stolen_11, ds_fc_low_sampled, 10, 28, 1, 100, False, ds_test)"
   ]
  },
  {
   "cell_type": "code",
   "execution_count": null,
   "id": "1ab28fe8",
   "metadata": {
    "scrolled": true
   },
   "outputs": [],
   "source": [
    "attack_fn(fc_model, stolen_12, ds_fc_low_sampled, 10, 28, 1, 100, False, ds_test)"
   ]
  },
  {
   "cell_type": "code",
   "execution_count": null,
   "id": "344e0479",
   "metadata": {},
   "outputs": [],
   "source": [
    "cnn_model = tf.keras.models.Sequential([\n",
    "  tf.keras.layers.Conv2D(10, (3, 3), activation='relu', input_shape=(28, 28, 1)),\n",
    "  tf.keras.layers.Flatten(input_shape=(26, 26, 10)),\n",
    "  tf.keras.layers.Dense(10),\n",
    "  tf.keras.layers.Softmax(axis = -1)\n",
    "])\n",
    "cnn_model.compile(\n",
    "    optimizer=tf.keras.optimizers.Adam(0.001),\n",
    "    loss=tf.keras.losses.SparseCategoricalCrossentropy(from_logits=True),\n",
    "    metrics=[tf.keras.metrics.SparseCategoricalAccuracy()],\n",
    ")\n",
    "\n",
    "cnn_model.fit(\n",
    "    ds_train,\n",
    "    epochs=6,\n",
    "    validation_data=ds_test,\n",
    ")"
   ]
  },
  {
   "cell_type": "code",
   "execution_count": null,
   "id": "42b25f13",
   "metadata": {},
   "outputs": [],
   "source": [
    "cnn_distance_obj = uncertainty_from_distances(cnn_model, 100, 20, 28, 1)"
   ]
  },
  {
   "cell_type": "code",
   "execution_count": null,
   "id": "af49cb1f",
   "metadata": {},
   "outputs": [],
   "source": [
    "ds_cnn_uni_sample = sample_uniform(ds_train, 0.1, cnn_distance_obj)"
   ]
  },
  {
   "cell_type": "code",
   "execution_count": null,
   "id": "ed3e796c",
   "metadata": {},
   "outputs": [],
   "source": [
    "ds_cnn_uni_sample = tf.slice(ds_cnn_uni_sample, [0, 0, 0, 0], [tf.shape(ds_cnn_uni_sample)[0] - 1, 28, 28, 1]) \n",
    "y = tf.random.uniform([len(ds_cnn_uni_sample)], minval = 0, maxval = 9)\n",
    "ds_cnn_uniform_sampled = tf.data.Dataset.from_tensor_slices((ds_cnn_uniform_sampled, y))\n",
    "ds_cnn_uniform_sampled = ds_cnn_uniform_sampled.cache()\n",
    "ds_cnn_uniform_sampled = ds_cnn_uniform_sampled.shuffle(ds_info.splits['train'].num_examples)\n",
    "ds_cnn_uniform_sampled = ds_cnn_uniform_sampled.batch(100)\n",
    "ds_cnn_uniform_sampled = ds_cnn_uniform_sampled.prefetch(tf.data.AUTOTUNE)"
   ]
  },
  {
   "cell_type": "code",
   "execution_count": null,
   "id": "abe15505",
   "metadata": {},
   "outputs": [],
   "source": [
    "ds_cnn_high_sample = sample_high_unc(ds_train, 0.1, cnn_distance_obj, 28, 1)"
   ]
  },
  {
   "cell_type": "code",
   "execution_count": null,
   "id": "4effdee8",
   "metadata": {},
   "outputs": [],
   "source": [
    "ds_cnn_high_sample = tf.slice(ds_cnn_high_sample, [0, 0, 0, 0], [tf.shape(ds_cnn_high_sample)[0] - 1, 28, 28, 1]) \n",
    "y = tf.random.uniform([len(ds_cnn_high_sample)], minval = 0, maxval = 9)\n",
    "ds_cnn_high_sampled = tf.data.Dataset.from_tensor_slices((ds_cnn_high_sample, y))\n",
    "ds_cnn_high_sampled = ds_cnn_high_sampled.cache()\n",
    "ds_cnn_high_sampled = ds_cnn_high_sampled.shuffle(ds_info.splits['train'].num_examples)\n",
    "ds_cnn_high_sampled = ds_cnn_high_sampled.batch(100)\n",
    "ds_cnn_high_sampled = ds_cnn_high_sampled.prefetch(tf.data.AUTOTUNE)"
   ]
  },
  {
   "cell_type": "code",
   "execution_count": null,
   "id": "68a1af0d",
   "metadata": {},
   "outputs": [],
   "source": [
    "ds_cnn_low_sample = sample_low_unc(ds_train, 0.1, cnn_distance_obj, 28, 1)"
   ]
  },
  {
   "cell_type": "code",
   "execution_count": null,
   "id": "ed019a41",
   "metadata": {},
   "outputs": [],
   "source": [
    "ds_cnn_low_sample = tf.slice(ds_cnn_low_sample, [0, 0, 0, 0], [tf.shape(ds_cnn_low_sample)[0] - 1, 28, 28, 1]) \n",
    "y = tf.random.uniform([len(ds_cnn_low_sample)], minval = 0, maxval = 9)\n",
    "ds_cnn_low_sampled = tf.data.Dataset.from_tensor_slices((ds_cnn_low_sample, y))\n",
    "ds_cnn_low_sampled = ds_cnn_low_sampled.cache()\n",
    "ds_cnn_low_sampled = ds_cnn_low_sampled.shuffle(ds_info.splits['train'].num_examples)\n",
    "ds_cnn_low_sampled = ds_cnn_low_sampled.batch(100)\n",
    "ds_cnn_low_sampled = ds_cnn_low_sampled.prefetch(tf.data.AUTOTUNE)"
   ]
  },
  {
   "cell_type": "code",
   "execution_count": null,
   "id": "c9f33a28",
   "metadata": {},
   "outputs": [],
   "source": [
    "stolen_13 = tf.keras.models.Sequential([\n",
    "  tf.keras.layers.Flatten(input_shape=(28, 28)),\n",
    "  tf.keras.layers.Dense(128, activation='relu'),\n",
    "  tf.keras.layers.Dense(10),\n",
    "  tf.keras.layers.Softmax(axis = -1)\n",
    "])\n",
    "stolen_14 = tf.keras.models.Sequential([\n",
    "  tf.keras.layers.Flatten(input_shape=(28, 28)),\n",
    "  tf.keras.layers.Dense(10),\n",
    "  tf.keras.layers.Softmax(axis = -1)\n",
    "])\n",
    "stolen_15 = tf.keras.models.Sequential([\n",
    "  tf.keras.layers.Flatten(input_shape=(28, 28)),\n",
    "  tf.keras.layers.Dense(128, activation='relu'),\n",
    "  tf.keras.layers.Dense(10),\n",
    "  tf.keras.layers.Softmax(axis = -1)\n",
    "])\n",
    "stolen_16 = tf.keras.models.Sequential([\n",
    "  tf.keras.layers.Flatten(input_shape=(28, 28)),\n",
    "  tf.keras.layers.Dense(10),\n",
    "  tf.keras.layers.Softmax(axis = -1)\n",
    "])\n",
    "stolen_17 = tf.keras.models.Sequential([\n",
    "  tf.keras.layers.Flatten(input_shape=(28, 28)),\n",
    "  tf.keras.layers.Dense(128, activation='relu'),\n",
    "  tf.keras.layers.Dense(10),\n",
    "  tf.keras.layers.Softmax(axis = -1)\n",
    "])\n",
    "stolen_18 = tf.keras.models.Sequential([\n",
    "  tf.keras.layers.Flatten(input_shape=(28, 28)),\n",
    "  tf.keras.layers.Dense(10),\n",
    "  tf.keras.layers.Softmax(axis = -1)\n",
    "])\n",
    "stolen_19 = tf.keras.models.Sequential([\n",
    "  tf.keras.layers.Flatten(input_shape=(28, 28)),\n",
    "  tf.keras.layers.Dense(128, activation='relu'),\n",
    "  tf.keras.layers.Dense(10),\n",
    "  tf.keras.layers.Softmax(axis = -1)\n",
    "])\n",
    "stolen_20 = tf.keras.models.Sequential([\n",
    "  tf.keras.layers.Flatten(input_shape=(28, 28)),\n",
    "  tf.keras.layers.Dense(10),\n",
    "  tf.keras.layers.Softmax(axis = -1)\n",
    "])\n",
    "stolen_21 = tf.keras.models.Sequential([\n",
    "  tf.keras.layers.Flatten(input_shape=(28, 28)),\n",
    "  tf.keras.layers.Dense(128, activation='relu'),\n",
    "  tf.keras.layers.Dense(10),\n",
    "  tf.keras.layers.Softmax(axis = -1)\n",
    "])\n",
    "stolen_22 = tf.keras.models.Sequential([\n",
    "  tf.keras.layers.Flatten(input_shape=(28, 28)),\n",
    "  tf.keras.layers.Dense(10),\n",
    "  tf.keras.layers.Softmax(axis = -1)\n",
    "])\n",
    "stolen_23 = tf.keras.models.Sequential([\n",
    "  tf.keras.layers.Flatten(input_shape=(28, 28)),\n",
    "  tf.keras.layers.Dense(128, activation='relu'),\n",
    "  tf.keras.layers.Dense(10),\n",
    "  tf.keras.layers.Softmax(axis = -1)\n",
    "])\n",
    "stolen_24 = tf.keras.models.Sequential([\n",
    "  tf.keras.layers.Flatten(input_shape=(28, 28)),\n",
    "  tf.keras.layers.Dense(10),\n",
    "  tf.keras.layers.Softmax(axis = -1)\n",
    "])"
   ]
  },
  {
   "cell_type": "code",
   "execution_count": null,
   "id": "26c23d3b",
   "metadata": {},
   "outputs": [],
   "source": [
    "attack_fn(fc_model, stolen_13, ds_train, 10, 28, 1, 100, False, ds_test)"
   ]
  },
  {
   "cell_type": "code",
   "execution_count": null,
   "id": "a4d16402",
   "metadata": {},
   "outputs": [],
   "source": [
    "###########change from fc yo cnn in model everywhere here"
   ]
  },
  {
   "cell_type": "code",
   "execution_count": null,
   "id": "d7f18a0b",
   "metadata": {},
   "outputs": [],
   "source": []
  },
  {
   "cell_type": "code",
   "execution_count": null,
   "id": "699b27aa",
   "metadata": {},
   "outputs": [],
   "source": [
    "attack_fn(fc_model, stolen_14, ds_train, 10, 28, 1, 100, False, ds_test)"
   ]
  },
  {
   "cell_type": "code",
   "execution_count": null,
   "id": "f47a4a6a",
   "metadata": {},
   "outputs": [],
   "source": [
    "attack_fn(fc_model, stolen_15, ds_cnn_uniform_sampled, 10, 28, 1, 100, False, ds_test)"
   ]
  },
  {
   "cell_type": "code",
   "execution_count": null,
   "id": "ae2ebc83",
   "metadata": {},
   "outputs": [],
   "source": [
    "attack_fn(fc_model, stolen_16, ds_cnn_uniform_sampled, 10, 28, 1, 100, False, ds_test)"
   ]
  },
  {
   "cell_type": "code",
   "execution_count": null,
   "id": "36a2f1ea",
   "metadata": {},
   "outputs": [],
   "source": [
    "attack_fn(fc_model, stolen_17, ds_cnn_high_sampled, 10, 28, 1, 100, False, ds_test)"
   ]
  },
  {
   "cell_type": "code",
   "execution_count": null,
   "id": "630eed5d",
   "metadata": {},
   "outputs": [],
   "source": [
    "attack_fn(fc_model, stolen_18, ds_cnn_high_sampled, 10, 28, 1, 100, False, ds_test)"
   ]
  },
  {
   "cell_type": "code",
   "execution_count": null,
   "id": "3827917d",
   "metadata": {},
   "outputs": [],
   "source": [
    "attack_fn(fc_model, stolen_19, ds_rand_uniform_sampled, 10, 28, 1, 100, False, ds_test)"
   ]
  },
  {
   "cell_type": "code",
   "execution_count": null,
   "id": "14b33c96",
   "metadata": {},
   "outputs": [],
   "source": [
    "attack_fn(fc_model, stolen_20, ds_rand_uniform_sampled, 10, 28, 1, 100, False, ds_test)"
   ]
  },
  {
   "cell_type": "code",
   "execution_count": null,
   "id": "0fa3855c",
   "metadata": {},
   "outputs": [],
   "source": [
    "attack_fn(fc_model, stolen_21, ds_rand_uniform_sampled, 10, 28, 1, 100, True, ds_test)"
   ]
  },
  {
   "cell_type": "code",
   "execution_count": null,
   "id": "a53d9077",
   "metadata": {},
   "outputs": [],
   "source": [
    "attack_fn(fc_model, stolen_22, ds_cnn_low_sampled, 10, 28, 1, 100, True, ds_test)"
   ]
  },
  {
   "cell_type": "code",
   "execution_count": null,
   "id": "991618f6",
   "metadata": {},
   "outputs": [],
   "source": [
    "attack_fn(fc_model, stolen_22, ds_cnn_low_sampled, 10, 28, 1, 100, True, ds_test)"
   ]
  },
  {
   "cell_type": "code",
   "execution_count": null,
   "id": "0b69441c",
   "metadata": {},
   "outputs": [],
   "source": []
  },
  {
   "cell_type": "code",
   "execution_count": null,
   "id": "979b5168",
   "metadata": {},
   "outputs": [],
   "source": []
  },
  {
   "cell_type": "code",
   "execution_count": 7,
   "id": "f21cd942",
   "metadata": {},
   "outputs": [
    {
     "ename": "NameError",
     "evalue": "name 'ds_fc_high_sampled' is not defined",
     "output_type": "error",
     "traceback": [
      "\u001b[0;31m---------------------------------------------------------------------------\u001b[0m",
      "\u001b[0;31mNameError\u001b[0m                                 Traceback (most recent call last)",
      "Input \u001b[0;32mIn [7]\u001b[0m, in \u001b[0;36m<cell line: 3>\u001b[0;34m()\u001b[0m\n\u001b[1;32m      1\u001b[0m label_list_1 \u001b[38;5;241m=\u001b[39m np\u001b[38;5;241m.\u001b[39marray([\u001b[38;5;241m0\u001b[39m])\n\u001b[0;32m----> 3\u001b[0m \u001b[38;5;28;01mfor\u001b[39;00m (im, lab) \u001b[38;5;129;01min\u001b[39;00m \u001b[43mds_fc_high_sampled\u001b[49m:\n\u001b[1;32m      4\u001b[0m     waste, labels \u001b[38;5;241m=\u001b[39m fc_distance_obj\u001b[38;5;241m.\u001b[39mget_top1_class(im)\n\u001b[1;32m      5\u001b[0m     label_list_1 \u001b[38;5;241m=\u001b[39m np\u001b[38;5;241m.\u001b[39mappend(label_list_1, tf\u001b[38;5;241m.\u001b[39mmake_ndarray(tf\u001b[38;5;241m.\u001b[39mmake_tensor_proto(labels)), axis \u001b[38;5;241m=\u001b[39m \u001b[38;5;241m0\u001b[39m)\n",
      "\u001b[0;31mNameError\u001b[0m: name 'ds_fc_high_sampled' is not defined"
     ]
    }
   ],
   "source": [
    "label_list_1 = np.array([0])\n",
    "\n",
    "for (im, lab) in ds_fc_uniform_sampled:\n",
    "    waste, labels = fc_distance_obj.get_top1_class(im)\n",
    "    label_list_1 = np.append(label_list_1, tf.make_ndarray(tf.make_tensor_proto(labels)), axis = 0)\n",
    "    \n",
    "plt.hist(label_list_1, bins = 10)\n",
    "plt.show()"
   ]
  },
  {
   "cell_type": "code",
   "execution_count": null,
   "id": "53ed21ed",
   "metadata": {},
   "outputs": [],
   "source": [
    "label_list_2 = np.array([0])\n",
    "\n",
    "for (im, lab) in ds_fc_high_sampled:\n",
    "    waste, labels = fc_distance_obj.get_top1_class(im)\n",
    "    label_list_2 = np.append(label_list_2, tf.make_ndarray(tf.make_tensor_proto(labels)), axis = 0)\n",
    "    \n",
    "plt.hist(label_list_2, bins = 10)\n",
    "plt.show()"
   ]
  },
  {
   "cell_type": "code",
   "execution_count": null,
   "id": "ed347fff",
   "metadata": {},
   "outputs": [],
   "source": [
    "label_list_3 = np.array([0])\n",
    "\n",
    "for (im, lab) in ds_fc_low_sampled:\n",
    "    waste, labels = fc_distance_obj.get_top1_class(im)\n",
    "    label_list_3 = np.append(label_list_3, tf.make_ndarray(tf.make_tensor_proto(labels)), axis = 0)\n",
    "    \n",
    "plt.hist(label_list_3, bins = 10)\n",
    "plt.show()"
   ]
  },
  {
   "cell_type": "code",
   "execution_count": null,
   "id": "002331c6",
   "metadata": {},
   "outputs": [],
   "source": [
    "label_list_4 = np.array([0])\n",
    "\n",
    "for (im, lab) in ds_cnn_uniform_sampled:\n",
    "    waste, labels = cnn_distance_obj.get_top1_class(im)\n",
    "    label_list_4 = np.append(label_list_4, tf.make_ndarray(tf.make_tensor_proto(labels)), axis = 0)\n",
    "    \n",
    "plt.hist(label_list_4, bins = 10)\n",
    "plt.show()"
   ]
  },
  {
   "cell_type": "code",
   "execution_count": null,
   "id": "8483d2f6",
   "metadata": {},
   "outputs": [],
   "source": [
    "label_list_5 = np.array([0])\n",
    "\n",
    "for (im, lab) in ds_cnn_high_sampled:\n",
    "    waste, labels = cnn_distance_obj.get_top1_class(im)\n",
    "    label_list_5 = np.append(label_list_5, tf.make_ndarray(tf.make_tensor_proto(labels)), axis = 0)\n",
    "    \n",
    "plt.hist(label_list_5, bins = 10)\n",
    "plt.show()"
   ]
  },
  {
   "cell_type": "code",
   "execution_count": null,
   "id": "4dc5c33b",
   "metadata": {},
   "outputs": [],
   "source": [
    "label_list_6 = np.array([0])\n",
    "\n",
    "for (im, lab) in ds_cnn_low_sampled:\n",
    "    waste, labels = cnn_distance_obj.get_top1_class(im)\n",
    "    label_list_6 = np.append(label_list_6, tf.make_ndarray(tf.make_tensor_proto(labels)), axis = 0)\n",
    "    \n",
    "plt.hist(label_list_6, bins = 10)\n",
    "plt.show()"
   ]
  }
 ],
 "metadata": {
  "kernelspec": {
   "display_name": "Python 3 (ipykernel)",
   "language": "python",
   "name": "python3"
  },
  "language_info": {
   "codemirror_mode": {
    "name": "ipython",
    "version": 3
   },
   "file_extension": ".py",
   "mimetype": "text/x-python",
   "name": "python",
   "nbconvert_exporter": "python",
   "pygments_lexer": "ipython3",
   "version": "3.10.4"
  }
 },
 "nbformat": 4,
 "nbformat_minor": 5
}
